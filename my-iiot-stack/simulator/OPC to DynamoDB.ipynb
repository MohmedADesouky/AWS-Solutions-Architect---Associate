{
 "cells": [
  {
   "cell_type": "code",
   "execution_count": null,
   "metadata": {},
   "outputs": [
    {
     "name": "stderr",
     "output_type": "stream",
     "text": [
      "Requested secure channel timeout to be 3600000ms, got 600000ms instead\n",
      "C:\\Users\\Mohamed Desouky\\AppData\\Local\\Temp\\ipykernel_5716\\2160261562.py:31: DeprecationWarning: datetime.datetime.utcnow() is deprecated and scheduled for removal in a future version. Use timezone-aware objects to represent datetimes in UTC: datetime.datetime.now(datetime.UTC).\n",
      "  \"timestamp\": datetime.utcnow().isoformat(),  # Sort key with current timestamp\n"
     ]
    },
    {
     "name": "stdout",
     "output_type": "stream",
     "text": [
      "Data collected and stored successfully.\n"
     ]
    },
    {
     "name": "stderr",
     "output_type": "stream",
     "text": [
      "Requested secure channel timeout to be 3600000ms, got 600000ms instead\n"
     ]
    },
    {
     "name": "stdout",
     "output_type": "stream",
     "text": [
      "Data collected and stored successfully.\n"
     ]
    },
    {
     "ename": "KeyboardInterrupt",
     "evalue": "",
     "output_type": "error",
     "traceback": [
      "\u001b[1;31m---------------------------------------------------------------------------\u001b[0m",
      "\u001b[1;31mKeyboardInterrupt\u001b[0m                         Traceback (most recent call last)",
      "Cell \u001b[1;32mIn[2], line 67\u001b[0m\n\u001b[0;32m     64\u001b[0m             time\u001b[38;5;241m.\u001b[39msleep(\u001b[38;5;241m5\u001b[39m)\n\u001b[0;32m     66\u001b[0m \u001b[38;5;28;01mif\u001b[39;00m \u001b[38;5;18m__name__\u001b[39m \u001b[38;5;241m==\u001b[39m \u001b[38;5;124m\"\u001b[39m\u001b[38;5;124m__main__\u001b[39m\u001b[38;5;124m\"\u001b[39m:\n\u001b[1;32m---> 67\u001b[0m     \u001b[43mmain\u001b[49m\u001b[43m(\u001b[49m\u001b[43m)\u001b[49m\n",
      "Cell \u001b[1;32mIn[2], line 60\u001b[0m, in \u001b[0;36mmain\u001b[1;34m()\u001b[0m\n\u001b[0;32m     58\u001b[0m     \u001b[38;5;28mprint\u001b[39m(\u001b[38;5;124m\"\u001b[39m\u001b[38;5;124mData collected and stored successfully.\u001b[39m\u001b[38;5;124m\"\u001b[39m)\n\u001b[0;32m     59\u001b[0m     \u001b[38;5;66;03m# Wait 30 seconds before the next collection\u001b[39;00m\n\u001b[1;32m---> 60\u001b[0m     \u001b[43mtime\u001b[49m\u001b[38;5;241;43m.\u001b[39;49m\u001b[43msleep\u001b[49m\u001b[43m(\u001b[49m\u001b[38;5;241;43m30\u001b[39;49m\u001b[43m)\u001b[49m  \u001b[38;5;66;03m# Use synchronous sleep here\u001b[39;00m\n\u001b[0;32m     61\u001b[0m \u001b[38;5;28;01mexcept\u001b[39;00m \u001b[38;5;167;01mException\u001b[39;00m \u001b[38;5;28;01mas\u001b[39;00m e:\n\u001b[0;32m     62\u001b[0m     \u001b[38;5;66;03m# In case of an error, continue retrying after 5 seconds\u001b[39;00m\n\u001b[0;32m     63\u001b[0m     \u001b[38;5;28mprint\u001b[39m(\u001b[38;5;124mf\u001b[39m\u001b[38;5;124m\"\u001b[39m\u001b[38;5;124mError in main loop: \u001b[39m\u001b[38;5;132;01m{\u001b[39;00me\u001b[38;5;132;01m}\u001b[39;00m\u001b[38;5;124m\"\u001b[39m)\n",
      "\u001b[1;31mKeyboardInterrupt\u001b[0m: "
     ]
    }
   ],
   "source": [
    "import time\n",
    "import boto3\n",
    "from opcua import Client\n",
    "from datetime import datetime\n",
    "\n",
    "class UmatiDynamoDBIntegration:\n",
    "    def __init__(self, server_url: str, table_name: str, region: str = 'eu-central-1'):\n",
    "        self.server_url = server_url\n",
    "        self.dynamodb = boto3.resource('dynamodb', region_name=region)\n",
    "        self.table = self.dynamodb.Table(table_name)\n",
    "\n",
    "    def collect_and_store(self):\n",
    "        try:\n",
    "            # Connect to OPC UA server (Blocking call)\n",
    "            client = Client(self.server_url)\n",
    "            client.connect()  # Synchronous connection\n",
    "\n",
    "            # Retrieve data from stack light nodes (L1, L2, L3)\n",
    "            l1_node = client.get_node(\"ns=14;i=58676\")  # L1\n",
    "            l2_node = client.get_node(\"ns=14;i=58682\")  # L2\n",
    "            l3_node = client.get_node(\"ns=14;i=58665\")  # L3\n",
    "\n",
    "            # Get the state of each light\n",
    "            l1_state = l1_node.get_value()\n",
    "            l2_state = l2_node.get_value()\n",
    "            l3_state = l3_node.get_value()\n",
    "\n",
    "            # Prepare data to be stored in DynamoDB\n",
    "            item = {\n",
    "                \"machineId\": \"machine_4\",  # Partition key (machine ID)\n",
    "                \"timestamp\": datetime.utcnow().isoformat(),  # Sort key with current timestamp\n",
    "                \"L1_state\": l1_state,  # State of L1 stack light\n",
    "                \"L2_state\": l2_state,  # State of L2 stack light\n",
    "                \"L3_state\": l3_state,  # State of L3 stack light\n",
    "                \"status\": \"running\"  # Machine status (this can be dynamic if needed)\n",
    "            }\n",
    "\n",
    "            # Store in DynamoDB\n",
    "            self.table.put_item(Item=item)\n",
    "\n",
    "            # Disconnect from OPC UA server\n",
    "            client.disconnect()  # Blocking call\n",
    "\n",
    "        except Exception as e:\n",
    "            print(f\"Error collecting or storing data: {e}\")\n",
    "\n",
    "def main():\n",
    "    # Initialize the integration\n",
    "    integration = UmatiDynamoDBIntegration(\n",
    "        server_url='opc.tcp://opcua.umati.app:4840',  # OPC UA server URL\n",
    "        table_name='MachineStackLights'  # New DynamoDB table name\n",
    "    )\n",
    "    \n",
    "    # Run continuous data collection and storage loop\n",
    "    while True:\n",
    "        try:\n",
    "            integration.collect_and_store()  # Synchronous call now\n",
    "            print(\"Data collected and stored successfully.\")\n",
    "            # Wait 30 seconds before the next collection\n",
    "            time.sleep(30)  # Use synchronous sleep here\n",
    "        except Exception as e:\n",
    "            # In case of an error, continue retrying after 5 seconds\n",
    "            print(f\"Error in main loop: {e}\")\n",
    "            time.sleep(5)\n",
    "\n",
    "if __name__ == \"__main__\":\n",
    "    main()\n"
   ]
  }
 ],
 "metadata": {
  "kernelspec": {
   "display_name": "Python 3",
   "language": "python",
   "name": "python3"
  },
  "language_info": {
   "codemirror_mode": {
    "name": "ipython",
    "version": 3
   },
   "file_extension": ".py",
   "mimetype": "text/x-python",
   "name": "python",
   "nbconvert_exporter": "python",
   "pygments_lexer": "ipython3",
   "version": "3.12.7"
  }
 },
 "nbformat": 4,
 "nbformat_minor": 2
}
